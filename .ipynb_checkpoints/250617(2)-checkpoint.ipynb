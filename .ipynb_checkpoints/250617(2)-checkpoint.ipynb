{
 "cells": [
  {
   "cell_type": "markdown",
   "id": "47962519-4407-4eef-a998-735b700e786f",
   "metadata": {},
   "source": [
    "# Surprise 라이브러리 활용한 추천 시스템 구축\n",
    "- 버전 체크\n",
    "- NumPy 버전을 1.26.4 설정 (최신 버전 2.3), 환경설정 할 때 주의"
   ]
  },
  {
   "cell_type": "code",
   "execution_count": 1,
   "id": "0c1e7058-c5fc-4b5f-bb3d-d6f25d8d9cb6",
   "metadata": {},
   "outputs": [
    {
     "name": "stdout",
     "output_type": "stream",
     "text": [
      "1.1.4\n"
     ]
    }
   ],
   "source": [
    "import surprise \n",
    "print(surprise.__version__)"
   ]
  },
  {
   "cell_type": "markdown",
   "id": "a1cbca70-e5e2-486d-bc2f-693b4bb1f76a",
   "metadata": {},
   "source": [
    "# 라이브러리 불러오기"
   ]
  },
  {
   "cell_type": "code",
   "execution_count": 7,
   "id": "a4619eb0-de7e-4a80-b941-f10bc233fecf",
   "metadata": {},
   "outputs": [],
   "source": [
    "from surprise import SVD\n",
    "from surprise import Dataset\n",
    "from surprise import accuracy\n",
    "from surprise.model_selection import train_test_split \n",
    "\n",
    "# 데이터 불러오기\n",
    "data = Dataset.load_builtin('ml-100k')\n",
    "\n",
    "# 가공, surprise.dataset.DatasetAutoFolds ==> pandas DataFrame으로 변경 (옵션)\n",
    "# 데이터 엔지니어, 분석가들이 해야 하는 역할\n",
    "\n",
    "\n",
    "# 데이터 분할 \n",
    "trainset, testset = train_test_split(data, test_size=.25, random_state=0)"
   ]
  },
  {
   "cell_type": "markdown",
   "id": "340a140f-4e0e-4e4b-86fa-a5719fafb3d7",
   "metadata": {},
   "source": [
    "# 모델링"
   ]
  },
  {
   "cell_type": "code",
   "execution_count": 8,
   "id": "7251a293-f289-48dd-a430-65a8c8b2084d",
   "metadata": {},
   "outputs": [
    {
     "data": {
      "text/plain": [
       "<surprise.prediction_algorithms.matrix_factorization.SVD at 0x1a7b5fff250>"
      ]
     },
     "execution_count": 8,
     "metadata": {},
     "output_type": "execute_result"
    }
   ],
   "source": [
    "algo = SVD(random_state=0)\n",
    "algo.fit(trainset)"
   ]
  },
  {
   "cell_type": "markdown",
   "id": "e20d9833-bf3d-4ce4-a755-a93c94092fbe",
   "metadata": {},
   "source": [
    "# 테스트"
   ]
  },
  {
   "cell_type": "code",
   "execution_count": 14,
   "id": "59798ec3-ddcf-45d8-98bb-9c2ee1eff247",
   "metadata": {},
   "outputs": [
    {
     "name": "stdout",
     "output_type": "stream",
     "text": [
      "25000 <class 'list'>\n"
     ]
    },
    {
     "data": {
      "text/plain": [
       "[Prediction(uid='120', iid='282', r_ui=4.0, est=3.5114147666251547, details={'was_impossible': False}),\n",
       " Prediction(uid='882', iid='291', r_ui=4.0, est=3.573872419581491, details={'was_impossible': False}),\n",
       " Prediction(uid='535', iid='507', r_ui=5.0, est=4.033583485472447, details={'was_impossible': False})]"
      ]
     },
     "execution_count": 14,
     "metadata": {},
     "output_type": "execute_result"
    }
   ],
   "source": [
    "predictions = algo.test(testset)\n",
    "print(len(predictions), type(predictions))\n",
    "predictions[:3]"
   ]
  },
  {
   "cell_type": "code",
   "execution_count": 15,
   "id": "22642714-eccd-4fdc-803e-31798bb871e7",
   "metadata": {},
   "outputs": [
    {
     "name": "stdout",
     "output_type": "stream",
     "text": [
      "120 282 3.5114147666251547 {'was_impossible': False}\n",
      "882 291 3.573872419581491 {'was_impossible': False}\n",
      "535 507 4.033583485472447 {'was_impossible': False}\n"
     ]
    }
   ],
   "source": [
    "# 프로젝트 할 때, 결괏값을 pandas 데이터프레임으로 만들고 나서 DB에 저장, CSV로 내보내기 하거나 등 작업을 수행하면 됨\n",
    "# 각 개별적인 인수에 접근하는 방식 기억\n",
    "for pred in predictions[:3]:\n",
    "    print(pred.uid, pred.iid, pred.est, pred.details)"
   ]
  },
  {
   "cell_type": "code",
   "execution_count": 16,
   "id": "e35c6a4e-fab1-4577-901e-9d4b19930816",
   "metadata": {},
   "outputs": [
    {
     "name": "stdout",
     "output_type": "stream",
     "text": [
      "user: 120        item: 282        r_ui = None   est = 3.51   {'was_impossible': False}\n"
     ]
    }
   ],
   "source": [
    "# 예시 \n",
    "uid = str(120)  # 숫자를 문자열로 형변환\n",
    "iid = str(282)  # 숫자를 문자열로 형변환\n",
    "pred = algo.predict(uid, iid)\n",
    "print(pred)"
   ]
  },
  {
   "cell_type": "markdown",
   "id": "3976d85c-aec4-4ee4-bc9c-25c8060cf785",
   "metadata": {},
   "source": [
    "# 평가"
   ]
  },
  {
   "cell_type": "code",
   "execution_count": 17,
   "id": "70dce64b-fd0b-48f7-9ebb-a0a88cf24308",
   "metadata": {},
   "outputs": [
    {
     "name": "stdout",
     "output_type": "stream",
     "text": [
      "RMSE: 0.9467\n"
     ]
    },
    {
     "data": {
      "text/plain": [
       "0.9466860806937948"
      ]
     },
     "execution_count": 17,
     "metadata": {},
     "output_type": "execute_result"
    }
   ],
   "source": [
    "accuracy.rmse(predictions)"
   ]
  },
  {
   "cell_type": "markdown",
   "id": "f7a7c6b8-c26e-401c-b2c3-34873649bb3d",
   "metadata": {},
   "source": [
    "# 신규 데이터로 추천시스템"
   ]
  },
  {
   "cell_type": "code",
   "execution_count": 19,
   "id": "6ed0f0c5-5367-411b-a308-51ad0b0ee67f",
   "metadata": {},
   "outputs": [],
   "source": [
    "import pandas as pd \n",
    "\n",
    "ratings = pd.read_csv('data/ml-latest-small/ratings.csv')\n",
    "ratings.to_csv('data/ml-latest-small/ratings_noh2.csv', index=False, header=False)"
   ]
  },
  {
   "cell_type": "code",
   "execution_count": 23,
   "id": "847257d5-aa98-4aad-b583-4e6328efa684",
   "metadata": {},
   "outputs": [
    {
     "name": "stdout",
     "output_type": "stream",
     "text": [
      "RMSE: 0.8682\n"
     ]
    },
    {
     "data": {
      "text/plain": [
       "0.8681952927143516"
      ]
     },
     "execution_count": 23,
     "metadata": {},
     "output_type": "execute_result"
    }
   ],
   "source": [
    "from surprise import Reader, Dataset \n",
    "reader = Reader(line_format='user item rating timestamp', sep=',', rating_scale=(0.5, 5))\n",
    "data = Dataset.load_from_file('data/ml-latest-small/ratings_noh.csv', reader=reader)\n",
    "\n",
    "trainset, testset = train_test_split(data, test_size=.25, random_state=0)\n",
    "\n",
    "algo = SVD(n_factors=50, random_state=0)\n",
    "\n",
    "# 학습 데이터 세트로 학습 후, 테스트 데이터 적용\n",
    "algo.fit(trainset)\n",
    "predictions = algo.test(testset)\n",
    "accuracy.rmse(predictions)"
   ]
  },
  {
   "cell_type": "markdown",
   "id": "029f8558-110d-4ee4-a2b2-42565ed7a882",
   "metadata": {},
   "source": [
    "# 데이터 활용"
   ]
  },
  {
   "cell_type": "code",
   "execution_count": 26,
   "id": "4b8f9f72-f6b8-44df-9311-15f685d4633d",
   "metadata": {},
   "outputs": [
    {
     "name": "stdout",
     "output_type": "stream",
     "text": [
      "RMSE: 0.8682\n"
     ]
    },
    {
     "data": {
      "text/plain": [
       "0.8681952927143516"
      ]
     },
     "execution_count": 26,
     "metadata": {},
     "output_type": "execute_result"
    }
   ],
   "source": [
    "import pandas as pd \n",
    "from surprise import Reader, Dataset \n",
    "\n",
    "ratings = pd.read_csv('data/ml-latest-small/ratings.csv') # 컬럼 존재\n",
    "reader = Reader(rating_scale=(0.5, 5))\n",
    "\n",
    "# ratings DataFrame에서 컬럼은 사용자 아이디, 아이템 아이디, 평점 순서 \n",
    "data = Dataset.load_from_df(ratings[['userId', 'movieId', 'rating']], reader)\n",
    "\n",
    "trainset, testset = train_test_split(data, test_size=.25, random_state=0)\n",
    "algo = SVD(n_factors=50, random_state=0)\n",
    "\n",
    "# 학습 데이터 세트로 학습 후, 테스트 데이터 적용\n",
    "algo.fit(trainset)\n",
    "predictions = algo.test(testset)\n",
    "accuracy.rmse(predictions)"
   ]
  },
  {
   "cell_type": "markdown",
   "id": "b21c0a79-19fb-465f-bcab-d72c9d52107f",
   "metadata": {},
   "source": [
    "# 교차 검증과 하이퍼 파라미터 튜닝"
   ]
  },
  {
   "cell_type": "code",
   "execution_count": 27,
   "id": "84dad923-ba28-4a4c-886b-b107483823b5",
   "metadata": {},
   "outputs": [
    {
     "name": "stdout",
     "output_type": "stream",
     "text": [
      "Evaluating RMSE, MAE of algorithm SVD on 5 split(s).\n",
      "\n",
      "                  Fold 1  Fold 2  Fold 3  Fold 4  Fold 5  Mean    Std     \n",
      "RMSE (testset)    0.8733  0.8717  0.8655  0.8799  0.8811  0.8743  0.0057  \n",
      "MAE (testset)     0.6720  0.6705  0.6641  0.6773  0.6762  0.6720  0.0047  \n",
      "Fit time          0.44    0.43    0.43    0.39    0.41    0.42    0.02    \n",
      "Test time         0.04    0.04    0.04    0.04    0.04    0.04    0.00    \n"
     ]
    },
    {
     "data": {
      "text/plain": [
       "{'test_rmse': array([0.87332827, 0.87165013, 0.86550618, 0.87986284, 0.88114387]),\n",
       " 'test_mae': array([0.67199708, 0.67052009, 0.66409951, 0.67733718, 0.67615924]),\n",
       " 'fit_time': (0.4375894069671631,\n",
       "  0.43001556396484375,\n",
       "  0.4310905933380127,\n",
       "  0.3860933780670166,\n",
       "  0.4079935550689697),\n",
       " 'test_time': (0.043997764587402344,\n",
       "  0.044985055923461914,\n",
       "  0.040946245193481445,\n",
       "  0.04200029373168945,\n",
       "  0.039000511169433594)}"
      ]
     },
     "execution_count": 27,
     "metadata": {},
     "output_type": "execute_result"
    }
   ],
   "source": [
    "import pandas as pd \n",
    "from surprise import Reader, Dataset \n",
    "from surprise.model_selection import cross_validate\n",
    "\n",
    "ratings = pd.read_csv('data/ml-latest-small/ratings.csv') # 컬럼 존재\n",
    "reader = Reader(rating_scale=(0.5, 5))\n",
    "\n",
    "# ratings DataFrame에서 컬럼은 사용자 아이디, 아이템 아이디, 평점 순서 \n",
    "data = Dataset.load_from_df(ratings[['userId', 'movieId', 'rating']], reader)\n",
    "algo = SVD(random_state=0)\n",
    "cross_validate(algo, data, measures=['RMSE', 'MAE'], cv=5, verbose=True)"
   ]
  },
  {
   "cell_type": "code",
   "execution_count": 28,
   "id": "ca520cfc-7fd0-4646-82a5-467d5b1cfc20",
   "metadata": {},
   "outputs": [
    {
     "name": "stdout",
     "output_type": "stream",
     "text": [
      "0.877334127095764\n",
      "{'n_epochs': 20, 'n_factors': 50}\n"
     ]
    }
   ],
   "source": [
    "from surprise.model_selection import GridSearchCV\n",
    "param_grid = {'n_epochs': [20, 40, 60], 'n_factors': [50, 100, 200]}\n",
    "\n",
    "gs = GridSearchCV(SVD, param_grid, measures=['rmse', 'mae'], cv=3)\n",
    "gs.fit(data)\n",
    "\n",
    "print(gs.best_score['rmse'])\n",
    "print(gs.best_params['rmse'])"
   ]
  },
  {
   "cell_type": "markdown",
   "id": "4fd5f3c9-978d-439c-b1c2-fc8ccc2cbf5e",
   "metadata": {},
   "source": [
    "# DatasetAutoFolds 클래스 활용"
   ]
  },
  {
   "cell_type": "code",
   "execution_count": 31,
   "id": "55c068c8-8e26-40c1-9f57-f9ec781aaaad",
   "metadata": {},
   "outputs": [
    {
     "data": {
      "text/plain": [
       "<surprise.prediction_algorithms.matrix_factorization.SVD at 0x1a7c1d1bb50>"
      ]
     },
     "execution_count": 31,
     "metadata": {},
     "output_type": "execute_result"
    }
   ],
   "source": [
    "from surprise.dataset import DatasetAutoFolds\n",
    "\n",
    "reader = Reader(line_format='user item rating timestamp', sep=',', rating_scale=(0.5, 5))\n",
    "data_folds = DatasetAutoFolds(ratings_file = 'data/ml-latest-small/ratings_noh.csv', reader=reader)\n",
    "\n",
    "# 전체 데이터를 학습데이터로 생성함\n",
    "trainset = data_folds.build_full_trainset()\n",
    "\n",
    "# 모델 만들기\n",
    "algo = SVD(n_epochs=20, n_factors=50, random_state=0)\n",
    "algo.fit(trainset)"
   ]
  },
  {
   "cell_type": "markdown",
   "id": "edac563c-46d7-407e-b587-e439d992c6ec",
   "metadata": {},
   "source": [
    "- 모델 테스트"
   ]
  },
  {
   "cell_type": "code",
   "execution_count": 39,
   "id": "a3eabf70-506a-45f6-83fb-dd598a550993",
   "metadata": {},
   "outputs": [
    {
     "name": "stdout",
     "output_type": "stream",
     "text": [
      "사용자 아이디 9는 영화 아이디 42의 평점 없음\n",
      "    movieId                   title              genres\n",
      "38       42  Dead Presidents (1995)  Action|Crime|Drama\n"
     ]
    }
   ],
   "source": [
    "ratings = pd.read_csv('data/ml-latest-small/ratings.csv') # 컬럼 존재\n",
    "movies = pd.read_csv('data/ml-latest-small/movies.csv')\n",
    "\n",
    "movieIds = ratings[ratings['userId'] == 9]['movieId']\n",
    "if movieIds[movieIds==42].count() == 0:\n",
    "    print('사용자 아이디 9는 영화 아이디 42의 평점 없음')\n",
    "\n",
    "print(movies[movies['movieId']==42])"
   ]
  },
  {
   "cell_type": "code",
   "execution_count": 40,
   "id": "05f55d7a-82af-4769-890a-3011bbabd6c5",
   "metadata": {},
   "outputs": [
    {
     "name": "stdout",
     "output_type": "stream",
     "text": [
      "user: 9          item: 42         r_ui = None   est = 3.13   {'was_impossible': False}\n"
     ]
    }
   ],
   "source": [
    "# 예시 \n",
    "uid = str(9)  # 숫자를 문자열로 형변환\n",
    "iid = str(42)  # 숫자를 문자열로 형변환\n",
    "pred = algo.predict(uid, iid)\n",
    "print(pred)"
   ]
  }
 ],
 "metadata": {
  "kernelspec": {
   "display_name": "Python 3 (ipykernel)",
   "language": "python",
   "name": "python3"
  },
  "language_info": {
   "codemirror_mode": {
    "name": "ipython",
    "version": 3
   },
   "file_extension": ".py",
   "mimetype": "text/x-python",
   "name": "python",
   "nbconvert_exporter": "python",
   "pygments_lexer": "ipython3",
   "version": "3.11.12"
  }
 },
 "nbformat": 4,
 "nbformat_minor": 5
}
